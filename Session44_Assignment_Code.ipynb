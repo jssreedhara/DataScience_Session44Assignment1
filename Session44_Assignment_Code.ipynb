{
 "cells": [
  {
   "cell_type": "code",
   "execution_count": null,
   "metadata": {},
   "outputs": [],
   "source": [
    "/* Session 44 Scala 2 by Sreedhara Jagatagar Sreenivasa */\n",
    "\n",
    "/*\n",
    "Task 1 \n",
    "A Fibonacci series (starting from 1) written in order without any spaces in between, thus producing a sequence of\n",
    "digits. \n",
    "1. Write a Scala application to find the Nth digit in the sequence. \n",
    "2. Write the function using standard for loop \n",
    "3. Write the function using recursion \n",
    "/*\n",
    "\n",
    "/*\n",
    "Task 2 \n",
    "Create a calculator to work with rational numbers. \n",
    "Requirements: \n",
    "○ It should provide capability to add, subtract, divide and multiply rational numbers \n",
    "○ Create a method to compute GCD (this will come in handy during operations on rational) \n",
    "Add option to work with whole numbers which are also rational numbers i.e. (n/1) \n",
    "- achieve the above using auxiliary constructors \n",
    "- enable method overloading to enable each function to work with numbers and rational. \n",
    "\n",
    "*/\n",
    "\n",
    "/*\n",
    "Task 3 \n",
    "1.Write a simple program to show inheritance in scala. \n",
    " \n",
    "2.Write a simple program to show multiple inheritance in scala\n",
    "\n",
    "3.Write a partial function to add three numbers in which one number is constant and two numbers can be passed \n",
    "as inputs and define another method which can take the partial function as input and squares the result. \n",
    " \n",
    "4.Write a program to print the prices of 4 courses of Acadgild: Android-12999,Big Data Development-17999,\n",
    "Big Data Development-17999,Spark-19999 using match and add a default condition if the user enters any other \n",
    "course \n",
    "*/"
   ]
  },
  {
   "cell_type": "code",
   "execution_count": null,
   "metadata": {},
   "outputs": [],
   "source": [
    "/*\n",
    "Task 1 \n",
    "A Fibonacci series (starting from 1) written in order without any spaces in between, thus producing a sequence of\n",
    "digits. \n",
    "1. Write a Scala application to find the Nth digit in the sequence. \n",
    "2. Write the function using standard for loop \n",
    "3. Write the function using recursion \n",
    "/*"
   ]
  },
  {
   "cell_type": "code",
   "execution_count": 33,
   "metadata": {},
   "outputs": [
    {
     "name": "stdout",
     "output_type": "stream",
     "text": [
      "with in fib 1\n",
      "Each Time 2\n",
      "Each Time 3\n",
      "Each Time 5\n",
      "Each Time 8\n",
      "Each Time 13\n",
      "Each Time 21\n",
      "Each Time 34\n",
      "Each Time 55\n",
      "Each Time 89\n"
     ]
    },
    {
     "data": {
      "text/plain": [
       "defined object fib\r\n",
       "res14: Int = 89\n"
      ]
     },
     "execution_count": 33,
     "metadata": {},
     "output_type": "execute_result"
    }
   ],
   "source": [
    "//1. Write a Scala application to find the Nth digit in the sequence. \n",
    "//2. Write the function using standard for loop \n",
    "\n",
    "object fib\n",
    "{\n",
    "    def fib( n : Int ) : Int = { \n",
    "    var a = 1 \n",
    "    var b = 2 \n",
    "    var i = 1 \n",
    "    println(\"with in fib \"+ a)\n",
    "   \n",
    "    \n",
    "    while( i < n ) { \n",
    "      val c = a + b \n",
    "      a = b \n",
    "      b = c \n",
    "      i = i + 1 \n",
    "      println(\"Each Time \" +a)\n",
    "   }  \n",
    "   \n",
    "   return a \n",
    " }\n",
    "}\n",
    "//Call the function\n",
    "fib.fib(10)"
   ]
  },
  {
   "cell_type": "code",
   "execution_count": 41,
   "metadata": {},
   "outputs": [
    {
     "data": {
      "text/plain": [
       "defined object fib2\r\n",
       "res16: Int = 233\n"
      ]
     },
     "execution_count": 41,
     "metadata": {},
     "output_type": "execute_result"
    }
   ],
   "source": [
    "//using recursion\n",
    "object fib2\n",
    "{\n",
    "    def fib2( n : Int) : Int = n match {\n",
    "        \n",
    "        case 1 | 2 => n\n",
    "        case _ => fib2(n-1) + fib2(n-2)\n",
    "        \n",
    "        }\n",
    " }\n",
    "//call the function\n",
    "fib2.fib2(12)"
   ]
  },
  {
   "cell_type": "code",
   "execution_count": 35,
   "metadata": {},
   "outputs": [
    {
     "data": {
      "text/plain": [
       "res15: Int = 89\n"
      ]
     },
     "execution_count": 35,
     "metadata": {},
     "output_type": "execute_result"
    }
   ],
   "source": []
  },
  {
   "cell_type": "code",
   "execution_count": null,
   "metadata": {},
   "outputs": [],
   "source": [
    "/*\n",
    "Task 2 \n",
    "Create a calculator to work with rational numbers. \n",
    "Requirements: \n",
    "○ It should provide capability to add, subtract, divide and multiply rational numbers \n",
    "○ Create a method to compute GCD (this will come in handy during operations on rational) \n",
    "Add option to work with whole numbers which are also rational numbers i.e. (n/1) \n",
    "- achieve the above using auxiliary constructors \n",
    "- enable method overloading to enable each function to work with numbers and rational. \n",
    "\n",
    "*/"
   ]
  },
  {
   "cell_type": "code",
   "execution_count": 181,
   "metadata": {},
   "outputs": [
    {
     "data": {
      "text/plain": [
       "defined class Rational\r\n",
       "gcd: (a: Int, b: Int)Int\n"
      ]
     },
     "execution_count": 181,
     "metadata": {},
     "output_type": "execute_result"
    }
   ],
   "source": [
    "class Rational(n: Int, d: Int) {\n",
    "    require(d != 0)\n",
    "    val numer: Int = n\n",
    "    val denom: Int = d\n",
    "    override def toString = numer +\"/\"+ denom\n",
    "\n",
    "    //For fractions\n",
    "    def add(that: Rational): Rational =\n",
    "        new Rational(\n",
    "          numer * that.denom + that.numer * denom,\n",
    "          denom * that.denom\n",
    "        )\n",
    "    \n",
    "    //For whole numbers\n",
    "    def add(a: Int,b: Int): Int =\n",
    "        a+b\n",
    "    \n",
    "    //For fractions\n",
    "    def sub(that: Rational): Rational =\n",
    "        new Rational(\n",
    "          numer * that.denom - that.numer * denom,\n",
    "          denom * that.denom\n",
    "        )\n",
    "    \n",
    "    //For Whole numbers\n",
    "    def sub(a: Int,b: Int): Int =\n",
    "        a-b    \n",
    "    \n",
    "    //For Fractions\n",
    "    def mult(that: Rational): Rational =\n",
    "        new Rational(\n",
    "          numer *  that.numer,\n",
    "          denom * that.denom\n",
    "        )    \n",
    "    \n",
    "    //for multiplication\n",
    "    def mult(a: Int,b: Int): Int =\n",
    "        a*b    \n",
    "    \n",
    "    //for fraction\n",
    "    def div(that: Rational): Rational =\n",
    "        new Rational(\n",
    "          numer *  that.denom,\n",
    "          denom * that.numer\n",
    "        )\n",
    "    \n",
    "    //for whole numbers\n",
    "    def div(a: Int,b: Int): Int =\n",
    "        a/b        \n",
    "    }\n",
    "\n",
    "//GCD Function\n",
    "def gcd(a: Int, b:Int): Int={\n",
    "    \n",
    "    if(b ==0) a else gcd(b, a%b)\n",
    "}"
   ]
  },
  {
   "cell_type": "code",
   "execution_count": 197,
   "metadata": {},
   "outputs": [
    {
     "name": "stdout",
     "output_type": "stream",
     "text": [
      "(Addition Fraction ,12/35)\n",
      "(Addition Whole number,3)\n",
      " \n",
      "(Substractions Fraction,2/35)\n",
      "(Substractions Whole number,1)\n",
      " \n",
      "(multiplication Fraction ,1/35)\n",
      "(multiplication whole Number,6)\n",
      " \n",
      "(Division fraction ,7/5)\n",
      "(Division whole number ,0)\n",
      " \n",
      "GCD 3\n"
     ]
    },
    {
     "data": {
      "text/plain": [
       "oneHalf: Rational = 1/5\r\n",
       "twoThirds: Rational = 1/7\n"
      ]
     },
     "execution_count": 197,
     "metadata": {},
     "output_type": "execute_result"
    }
   ],
   "source": [
    "/*Initiate and call add, sub, multi, division and GCD functions. And also call overiding fucntions \n",
    "for both rational and whole numbers */\n",
    "\n",
    "val oneHalf = new Rational(1, 5)\n",
    "val twoThirds = new Rational(1, 7)\n",
    "\n",
    "println(\"Addition Fraction \",oneHalf.add(twoThirds))\n",
    "println(\"Addition Whole number\",oneHalf.add(1,2))\n",
    "println(\" \")\n",
    "println(\"Substractions Fraction\",oneHalf.sub(twoThirds))\n",
    "println(\"Substractions Whole number\",oneHalf.sub(3,2))\n",
    "println(\" \")\n",
    "println(\"multiplication Fraction \",oneHalf.mult(twoThirds))\n",
    "println(\"multiplication whole Number\",oneHalf.mult(2,3))\n",
    "println(\" \")\n",
    "println(\"Division fraction \",oneHalf.div(twoThirds))\n",
    "println(\"Division whole number \",oneHalf.div(2,3))\n",
    "println(\" \")\n",
    "println(\"GCD \"+gcd(3,27))"
   ]
  },
  {
   "cell_type": "code",
   "execution_count": null,
   "metadata": {},
   "outputs": [],
   "source": [
    "/*\n",
    "Task 3 \n",
    "1.Write a simple program to show inheritance in scala. \n",
    " \n",
    "2.Write a simple program to show multiple inheritance in scala\n",
    "\n",
    "3.Write a partial function to add three numbers in which one number is constant and two numbers can be passed \n",
    "as inputs and define another method which can take the partial function as input and squares the result. \n",
    " \n",
    "4.Write a program to print the prices of 4 courses of Acadgild: Android-12999,Big Data Development-17999,\n",
    "Big Data Development-17999,Spark-19999 using match and add a default condition if the user enters any other \n",
    "course \n",
    "*/"
   ]
  },
  {
   "cell_type": "code",
   "execution_count": 188,
   "metadata": {},
   "outputs": [
    {
     "data": {
      "text/plain": [
       "defined class SalMain\r\n",
       "defined class SalSub\r\n",
       "defined class Sal\n"
      ]
     },
     "execution_count": 188,
     "metadata": {},
     "output_type": "execute_result"
    }
   ],
   "source": [
    "//Write a simple program to show inheritance in scala. \n",
    "\n",
    "class SalMain{  \n",
    "    var salary1 = 10000  \n",
    "}  \n",
    "  \n",
    "class SalSub extends SalMain{  \n",
    "    var salary2 = 20000  \n",
    "}  \n",
    "  \n",
    "class Sal extends SalSub{  \n",
    "    def show(){  \n",
    "        println(\"salary1 = \"+salary1)  \n",
    "        println(\"salary2 = \"+salary2)  \n",
    "    }  \n",
    "}  \n"
   ]
  },
  {
   "cell_type": "code",
   "execution_count": 189,
   "metadata": {},
   "outputs": [
    {
     "name": "stdout",
     "output_type": "stream",
     "text": [
      "salary1 = 10000\n",
      "salary2 = 20000\n"
     ]
    },
    {
     "data": {
      "text/plain": [
       "objSal: Sal = Sal@ce680c2\n"
      ]
     },
     "execution_count": 189,
     "metadata": {},
     "output_type": "execute_result"
    }
   ],
   "source": [
    "//Initiate the objects and Call\n",
    "var objSal = new Sal()  \n",
    "objSal.show()  \n"
   ]
  },
  {
   "cell_type": "code",
   "execution_count": 192,
   "metadata": {},
   "outputs": [
    {
     "data": {
      "text/plain": [
       "defined trait SalMain\r\n",
       "defined trait SalSub\r\n",
       "defined class Sal\n"
      ]
     },
     "execution_count": 192,
     "metadata": {},
     "output_type": "execute_result"
    }
   ],
   "source": [
    "//2.Write a simple program to show multiple inheritance in scala\n",
    "\n",
    "//Write a simple program to show inheritance in scala. \n",
    "\n",
    "trait SalMain{  \n",
    "    var salary1 = 10000  \n",
    "}  \n",
    "  \n",
    "trait SalSub{  \n",
    "    var salary2 = 20000  \n",
    "}  \n",
    "  \n",
    "class Sal extends SalMain with SalSub{  \n",
    "    def show(){  \n",
    "        println(\"salary1 = \"+salary1)  \n",
    "        println(\"salary2 = \"+salary2)  \n",
    "    }  \n",
    "}  "
   ]
  },
  {
   "cell_type": "code",
   "execution_count": 196,
   "metadata": {},
   "outputs": [
    {
     "name": "stdout",
     "output_type": "stream",
     "text": [
      "salary1 = 10000\n",
      "salary2 = 20000\n"
     ]
    },
    {
     "data": {
      "text/plain": [
       "objSal: Sal = Sal@10621429\n"
      ]
     },
     "execution_count": 196,
     "metadata": {},
     "output_type": "execute_result"
    }
   ],
   "source": [
    "//Initiate the objects and Call\n",
    "var objSal = new Sal()  \n",
    "objSal.show()"
   ]
  },
  {
   "cell_type": "code",
   "execution_count": 232,
   "metadata": {},
   "outputs": [
    {
     "name": "stdout",
     "output_type": "stream",
     "text": [
      "Result of Square or power : 400.0\n",
      "Result of Square root  : 5.477225575051661\n"
     ]
    },
    {
     "data": {
      "text/plain": [
       "func1: (a: Int, b: Int)Int\r\n",
       "func2: (d: Int)Double\r\n",
       "func3: (d: Int)Double\n"
      ]
     },
     "execution_count": 232,
     "metadata": {},
     "output_type": "execute_result"
    }
   ],
   "source": [
    "/*\n",
    "3.Write a partial function to add three numbers in which one number is constant and two numbers can be passed \n",
    "as inputs and define another method which can take the partial function as input and squares the result. \n",
    "*/\n",
    "\n",
    "def func1(a: Int, b: Int): Int={\n",
    "    var  c=10\n",
    "    return a+b+c\n",
    "}\n",
    "\n",
    "//Power of the number\n",
    "def func2(d: Int): Double={\n",
    "    math.pow(d,2)\n",
    "}\n",
    "\n",
    "//Square root of the number\n",
    "def func3(d: Int): Double={\n",
    "    math.sqrt(d)\n",
    "}\n",
    "\n",
    "println(\"Result of Square or power : \" +func2(func1(5,5)))\n",
    "println(\"Result of Square root  : \" +func3(func1(15,5)))"
   ]
  },
  {
   "cell_type": "code",
   "execution_count": 240,
   "metadata": {},
   "outputs": [
    {
     "name": "stdout",
     "output_type": "stream",
     "text": [
      "Price Android:12999\n",
      "Price Big Data Development:17999\n",
      "Price Spark:19999\n",
      "Price Other:0\n"
     ]
    },
    {
     "data": {
      "text/plain": [
       "PrintPrice: (x: String)Int\n"
      ]
     },
     "execution_count": 240,
     "metadata": {},
     "output_type": "execute_result"
    }
   ],
   "source": [
    "/*4.Write a program to print the prices of 4 courses of Acadgild: Android-12999,Big Data Development-17999,\n",
    "Big Data Development-17999,Spark-19999 using match and add a default condition if the user enters any other \n",
    "course \n",
    "*/\n",
    "def PrintPrice(x: String): Int = x match {\n",
    "    case \"Android\" => 12999\n",
    "    case \"Big Data Development\" => 17999\n",
    "    case \"Big Data Development iml\" => 29999\n",
    "    case \"Spark\" => 19999\n",
    "    case _ =>0\n",
    "    \n",
    "}\n",
    "println(\"Price Android:\" + PrintPrice(\"Android\"))\n",
    "println(\"Price Big Data Development:\" + PrintPrice(\"Big Data Development\"))\n",
    "println(\"Price Spark:\" + PrintPrice(\"Spark\"))\n",
    "println(\"Price Other:\" + PrintPrice(\"Other\"))\n"
   ]
  }
 ],
 "metadata": {
  "kernelspec": {
   "display_name": "spylon-kernel",
   "language": "scala",
   "name": "spylon-kernel"
  },
  "language_info": {
   "codemirror_mode": "text/x-scala",
   "file_extension": ".scala",
   "help_links": [
    {
     "text": "MetaKernel Magics",
     "url": "https://github.com/calysto/metakernel/blob/master/metakernel/magics/README.md"
    }
   ],
   "mimetype": "text/x-scala",
   "name": "scala",
   "pygments_lexer": "scala",
   "version": "0.4.1"
  }
 },
 "nbformat": 4,
 "nbformat_minor": 2
}
